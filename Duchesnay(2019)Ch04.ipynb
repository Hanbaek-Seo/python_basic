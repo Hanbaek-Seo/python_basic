{
 "cells": [
  {
   "cell_type": "markdown",
   "metadata": {},
   "source": [
    "# 3.13.1 Exercise 1: functions"
   ]
  },
  {
   "cell_type": "code",
   "execution_count": 21,
   "metadata": {},
   "outputs": [],
   "source": [
    "def calc(a, b, oper = 'sum'):\n",
    "    if oper == 'multiply':\n",
    "        return a * b\n",
    "    if oper == 'sum':\n",
    "        return a + b\n",
    "    else:\n",
    "        return 'Error'"
   ]
  },
  {
   "cell_type": "code",
   "execution_count": 42,
   "metadata": {},
   "outputs": [
    {
     "data": {
      "text/plain": [
       "20"
      ]
     },
     "execution_count": 42,
     "metadata": {},
     "output_type": "execute_result"
    }
   ],
   "source": [
    "calc(4, 5, 'multiply')"
   ]
  },
  {
   "cell_type": "code",
   "execution_count": 43,
   "metadata": {},
   "outputs": [
    {
     "data": {
      "text/plain": [
       "8"
      ]
     },
     "execution_count": 43,
     "metadata": {},
     "output_type": "execute_result"
    }
   ],
   "source": [
    "calc(3, 5)"
   ]
  },
  {
   "cell_type": "code",
   "execution_count": 44,
   "metadata": {},
   "outputs": [
    {
     "data": {
      "text/plain": [
       "'Error'"
      ]
     },
     "execution_count": 44,
     "metadata": {},
     "output_type": "execute_result"
    }
   ],
   "source": [
    "calc(1,2, 'something')"
   ]
  },
  {
   "cell_type": "markdown",
   "metadata": {},
   "source": [
    "# 3.13.2 Exercise 2: functions + list + loop"
   ]
  },
  {
   "cell_type": "code",
   "execution_count": 46,
   "metadata": {},
   "outputs": [],
   "source": [
    "x = [1, 2, 2, 3, 3, 2, 2]"
   ]
  },
  {
   "cell_type": "markdown",
   "metadata": {},
   "source": [
    "- adjacent duplicate"
   ]
  },
  {
   "cell_type": "code",
   "execution_count": 47,
   "metadata": {},
   "outputs": [],
   "source": [
    "def remove_adjacent_duplicate(x):\n",
    "    idx = 0\n",
    "    while idx < len(x)-1:\n",
    "        if x[idx] == x[idx+1]:\n",
    "            del x[idx]\n",
    "        else:\n",
    "            idx += 1\n",
    "    return x"
   ]
  },
  {
   "cell_type": "code",
   "execution_count": 48,
   "metadata": {},
   "outputs": [
    {
     "data": {
      "text/plain": [
       "[1, 2, 3, 2]"
      ]
     },
     "execution_count": 48,
     "metadata": {},
     "output_type": "execute_result"
    }
   ],
   "source": [
    "remove_adjacent_duplicate(x)"
   ]
  },
  {
   "cell_type": "markdown",
   "metadata": {},
   "source": [
    "- duplicate"
   ]
  },
  {
   "cell_type": "code",
   "execution_count": 49,
   "metadata": {},
   "outputs": [],
   "source": [
    "def remove_duplicate(x):\n",
    "    return list(set(x))"
   ]
  },
  {
   "cell_type": "code",
   "execution_count": 50,
   "metadata": {},
   "outputs": [
    {
     "data": {
      "text/plain": [
       "[1, 2, 3]"
      ]
     },
     "execution_count": 50,
     "metadata": {},
     "output_type": "execute_result"
    }
   ],
   "source": [
    "remove_duplicate(x)"
   ]
  },
  {
   "cell_type": "markdown",
   "metadata": {},
   "source": [
    "# Duchesnay(2019)Statistics and Machine Learning in Python\n",
    "2020/03/21\n",
    "\n",
    "Original: reference.ipynb; https://github.com/justmarkham/python-reference"
   ]
  },
  {
   "cell_type": "markdown",
   "metadata": {},
   "source": [
    "## Table of contents\n",
    "\n",
    "1. <a href=\"#1.-Create-arrays\">Create arrays</a>\n",
    "2. <a href=\"#2.-Examining-arrays\">Examining arrays</a>\n",
    "3. <a href=\"#3.-Reshaping\">Reshaping</a>\n",
    "4. <a href=\"#4.-Stack-arrays\">Stack arrays</a>\n",
    "5. <a href=\"#5.-Selection\">Selection</a>\n",
    "6. <a href=\"#6.-Vectorized-operations\">Vectorized operations</a>\n",
    "7. <a href=\"#7.-Brodcasting\">Brodcasting</a>\n",
    "8. <a href=\"#8.-Exercises\">Exercises</a>"
   ]
  },
  {
   "cell_type": "markdown",
   "metadata": {},
   "source": [
    "## 1. Create arrays"
   ]
  },
  {
   "cell_type": "code",
   "execution_count": 51,
   "metadata": {},
   "outputs": [],
   "source": [
    "import numpy as np\n",
    "from pprint import pprint #print가 좀더 예쁘게 나오게 해줌"
   ]
  },
  {
   "cell_type": "code",
   "execution_count": 12,
   "metadata": {},
   "outputs": [
    {
     "name": "stdout",
     "output_type": "stream",
     "text": [
      "array([1, 2, 3, 4, 5])\n",
      "array([[1, 2, 3, 4],\n",
      "       [5, 6, 7, 8]])\n",
      "[[1, 2, 3, 4], [5, 6, 7, 8]]\n"
     ]
    }
   ],
   "source": [
    "data1 = [1, 2, 3, 4, 5] # list\n",
    "arr1 = np.array(data1) # 1d array\n",
    "data2 = [range(1, 5), range(5, 9)] # list of lists\n",
    "arr2 = np.array(data2) # 2d array\n",
    "arr2.tolist() # convert array back to list\n",
    "\n",
    "pprint(arr1)\n",
    "pprint(arr2)\n",
    "pprint(arr2.tolist())"
   ]
  },
  {
   "cell_type": "code",
   "execution_count": 52,
   "metadata": {},
   "outputs": [
    {
     "name": "stdout",
     "output_type": "stream",
     "text": [
      "array([0., 0., 0., 0., 0., 0., 0., 0., 0., 0.])\n",
      "array([[0., 0., 0., 0., 0., 0.],\n",
      "       [0., 0., 0., 0., 0., 0.],\n",
      "       [0., 0., 0., 0., 0., 0.]])\n",
      "array([1., 1., 1., 1., 1., 1., 1., 1., 1., 1.])\n",
      "array([[1., 1., 1., 1., 1., 1.],\n",
      "       [1., 1., 1., 1., 1., 1.],\n",
      "       [1., 1., 1., 1., 1., 1.]])\n",
      "array([0.  , 0.25, 0.5 , 0.75, 1.  ])\n",
      "array([   1.,   10.,  100., 1000.])\n",
      "array([0.        , 2.30258509, 4.60517019, 6.90775528])\n"
     ]
    }
   ],
   "source": [
    "pprint(np.zeros(10))\n",
    "pprint(np.zeros((3, 6)))\n",
    "pprint(np.ones(10))\n",
    "pprint(np.ones((3, 6)))\n",
    "pprint(np.linspace(0, 1, 5)) # 0 to 1 (inclusive) with 5 points\n",
    "pprint(np.logspace(0, 3, 4)) # 10^0 to 10^3 (inclusive) with 4 points\n",
    "pprint(np.log(np.logspace(0, 3, 4)))"
   ]
  },
  {
   "cell_type": "code",
   "execution_count": 60,
   "metadata": {},
   "outputs": [
    {
     "name": "stdout",
     "output_type": "stream",
     "text": [
      "array([0, 1, 2, 3, 4])\n",
      "array([0., 1., 2., 3., 4.])\n"
     ]
    }
   ],
   "source": [
    "int_array = np.arange(5)\n",
    "float_array = int_array.astype(float)\n",
    "\n",
    "pprint(int_array)\n",
    "pprint(float_array)"
   ]
  },
  {
   "cell_type": "markdown",
   "metadata": {},
   "source": [
    "[<a href=\"#Table-of-contents\">Back to top</a>]"
   ]
  },
  {
   "cell_type": "markdown",
   "metadata": {},
   "source": [
    "## 2. Examining arrays"
   ]
  },
  {
   "cell_type": "code",
   "execution_count": 61,
   "metadata": {},
   "outputs": [
    {
     "name": "stdout",
     "output_type": "stream",
     "text": [
      "dtype('float64')\n",
      "dtype('int32')\n",
      "2\n",
      "(2, 4)\n",
      "8\n",
      "2\n"
     ]
    }
   ],
   "source": [
    "pprint(float_array.dtype) # float64\n",
    "pprint(arr2.dtype) # int32\n",
    "pprint(arr2.ndim) # 2\n",
    "pprint(arr2.shape) # (2, 4) - axis 0 is rows, axis 1 is columns\n",
    "pprint(arr2.size) # 8 - total number of elements\n",
    "pprint(len(arr2)) # 2 - size of first dimension (aka axis)"
   ]
  },
  {
   "cell_type": "markdown",
   "metadata": {},
   "source": [
    "[<a href=\"#Table-of-contents\">Back to top</a>]"
   ]
  },
  {
   "cell_type": "markdown",
   "metadata": {},
   "source": [
    "## 3. Reshaping"
   ]
  },
  {
   "cell_type": "code",
   "execution_count": 62,
   "metadata": {},
   "outputs": [
    {
     "name": "stdout",
     "output_type": "stream",
     "text": [
      "(2, 5)\n",
      "array([[0., 1., 2., 3., 4.],\n",
      "       [5., 6., 7., 8., 9.]])\n",
      "array([[0., 1.],\n",
      "       [2., 3.],\n",
      "       [4., 5.],\n",
      "       [6., 7.],\n",
      "       [8., 9.]])\n"
     ]
    }
   ],
   "source": [
    "arr = np.arange(10, dtype=float).reshape((2, 5))\n",
    "pprint(arr.shape)\n",
    "pprint(arr)\n",
    "pprint(arr.reshape(5, 2))"
   ]
  },
  {
   "cell_type": "code",
   "execution_count": 63,
   "metadata": {},
   "outputs": [
    {
     "name": "stdout",
     "output_type": "stream",
     "text": [
      "array([0, 1])\n",
      "array([[0],\n",
      "       [1]])\n",
      "array([[0],\n",
      "       [1]])\n"
     ]
    }
   ],
   "source": [
    "a = np.array([0, 1])\n",
    "a_col = a[:, np.newaxis]\n",
    "pprint(a)\n",
    "pprint(a_col)\n",
    "#or\n",
    "a_col = a[:, None]\n",
    "pprint(a_col)"
   ]
  },
  {
   "cell_type": "code",
   "execution_count": 147,
   "metadata": {},
   "outputs": [
    {
     "name": "stdout",
     "output_type": "stream",
     "text": [
      "array([[0, 1]])\n"
     ]
    }
   ],
   "source": [
    "pprint(a_col.T) #Transpose"
   ]
  },
  {
   "cell_type": "code",
   "execution_count": 148,
   "metadata": {},
   "outputs": [
    {
     "name": "stdout",
     "output_type": "stream",
     "text": [
      "array([33.,  1.,  2.,  3.,  4.,  5.,  6.,  7.,  8.,  9.])\n",
      "array([[0., 1., 2., 3., 4.],\n",
      "       [5., 6., 7., 8., 9.]])\n"
     ]
    }
   ],
   "source": [
    "arr_flt = arr.flatten()\n",
    "arr_flt[0] = 33\n",
    "pprint(arr_flt)\n",
    "pprint(arr)"
   ]
  },
  {
   "cell_type": "code",
   "execution_count": 149,
   "metadata": {
    "scrolled": true
   },
   "outputs": [
    {
     "name": "stdout",
     "output_type": "stream",
     "text": [
      "array([33.,  1.,  2.,  3.,  4.,  5.,  6.,  7.,  8.,  9.])\n",
      "array([[33.,  1.,  2.,  3.,  4.],\n",
      "       [ 5.,  6.,  7.,  8.,  9.]])\n"
     ]
    }
   ],
   "source": [
    "arr_flt = arr.ravel()\n",
    "arr_flt[0] = 33\n",
    "pprint(arr_flt)\n",
    "pprint(arr) # flatten과의 차이, 원래 객체의 데이터도 값이 변한다"
   ]
  },
  {
   "cell_type": "markdown",
   "metadata": {},
   "source": [
    "[<a href=\"#Table-of-contents\">Back to top</a>]"
   ]
  },
  {
   "cell_type": "markdown",
   "metadata": {},
   "source": [
    "## 4. Stack arrays"
   ]
  },
  {
   "cell_type": "code",
   "execution_count": 69,
   "metadata": {},
   "outputs": [
    {
     "name": "stdout",
     "output_type": "stream",
     "text": [
      "array([[0, 2],\n",
      "       [1, 3]])\n",
      "array([[0, 2],\n",
      "       [1, 3]])\n",
      "array([[0, 2],\n",
      "       [1, 3]])\n",
      "array([[0, 2],\n",
      "       [1, 3]])\n"
     ]
    }
   ],
   "source": [
    "a = np.array([0, 1])\n",
    "b = np.array([2, 3])\n",
    "ab = np.stack((a, b)).T\n",
    "pprint(ab)\n",
    "# or\n",
    "pprint(np.hstack((a[:, None], b[:, None])))\n",
    "# or\n",
    "pprint(np.hstack((a[:, np.newaxis], b[:, np.newaxis])))\n",
    "# or\n",
    "pprint(np.vstack((a, b)).T)"
   ]
  },
  {
   "cell_type": "code",
   "execution_count": 70,
   "metadata": {},
   "outputs": [
    {
     "data": {
      "text/plain": [
       "array([0, 1, 2, 3])"
      ]
     },
     "execution_count": 70,
     "metadata": {},
     "output_type": "execute_result"
    }
   ],
   "source": [
    "np.hstack((a, b))"
   ]
  },
  {
   "cell_type": "code",
   "execution_count": 71,
   "metadata": {},
   "outputs": [
    {
     "data": {
      "text/plain": [
       "array([[0, 1],\n",
       "       [2, 3]])"
      ]
     },
     "execution_count": 71,
     "metadata": {},
     "output_type": "execute_result"
    }
   ],
   "source": [
    "np.vstack((a, b))"
   ]
  },
  {
   "cell_type": "markdown",
   "metadata": {},
   "source": [
    "[<a href=\"#Table-of-contents\">Back to top</a>]"
   ]
  },
  {
   "cell_type": "markdown",
   "metadata": {},
   "source": [
    "## 5. Selection"
   ]
  },
  {
   "cell_type": "code",
   "execution_count": 81,
   "metadata": {},
   "outputs": [
    {
     "name": "stdout",
     "output_type": "stream",
     "text": [
      "array([[0., 1., 2., 3., 4.],\n",
      "       [5., 6., 7., 8., 9.]])\n",
      "array([0., 1., 2., 3., 4.])\n",
      "3.0\n",
      "3.0\n"
     ]
    }
   ],
   "source": [
    "arr = np.arange(10, dtype=float).reshape((2, 5))\n",
    "\n",
    "pprint(arr)\n",
    "pprint(arr[0])\n",
    "pprint(arr[0, 3])\n",
    "pprint(arr[0][3])"
   ]
  },
  {
   "cell_type": "code",
   "execution_count": 82,
   "metadata": {},
   "outputs": [
    {
     "name": "stdout",
     "output_type": "stream",
     "text": [
      "array([0., 1., 2., 3., 4.])\n",
      "array([0., 5.])\n",
      "array([[0., 1.],\n",
      "       [5., 6.]])\n",
      "array([[2., 3., 4.],\n",
      "       [7., 8., 9.]])\n",
      "array([[1., 2., 3.],\n",
      "       [6., 7., 8.]])\n"
     ]
    }
   ],
   "source": [
    "pprint(arr[0, :])\n",
    "pprint(arr[:, 0])\n",
    "pprint(arr[:, :2])\n",
    "pprint(arr[:, 2:])\n",
    "\n",
    "arr2 = arr[:, 1:4]\n",
    "pprint(arr2)"
   ]
  },
  {
   "cell_type": "code",
   "execution_count": 83,
   "metadata": {},
   "outputs": [
    {
     "name": "stdout",
     "output_type": "stream",
     "text": [
      "array([[33.,  2.,  3.],\n",
      "       [ 6.,  7.,  8.]])\n",
      "array([[ 0., 33.,  2.,  3.,  4.],\n",
      "       [ 5.,  6.,  7.,  8.,  9.]])\n"
     ]
    }
   ],
   "source": [
    "arr2[0, 0] = 33\n",
    "pprint(arr2)\n",
    "pprint(arr) # Slicing returns a view (not a copy)"
   ]
  },
  {
   "cell_type": "code",
   "execution_count": 86,
   "metadata": {},
   "outputs": [
    {
     "name": "stdout",
     "output_type": "stream",
     "text": [
      "array([0., 2., 4.])\n",
      "array([ 2., 33.,  0.])\n",
      "array([ 2., 33.])\n",
      "array([4., 2., 0.])\n",
      "array([ 4.,  3.,  2., 33.,  0.])\n"
     ]
    }
   ],
   "source": [
    "pprint(arr[0, :5:2])\n",
    "pprint(arr[0, 2::-1])\n",
    "pprint(arr[0, 2:0:-1])\n",
    "pprint(arr[0, ::-2])\n",
    "pprint(arr[0, ::-1])"
   ]
  },
  {
   "cell_type": "code",
   "execution_count": 155,
   "metadata": {},
   "outputs": [
    {
     "name": "stdout",
     "output_type": "stream",
     "text": [
      "array([[33.,  2.,  3.],\n",
      "       [ 6.,  7.,  8.]])\n",
      "array([[44.,  2.,  3.],\n",
      "       [ 6.,  7.,  8.]])\n",
      "array([[ 0., 33.,  2.,  3.,  4.],\n",
      "       [ 5.,  6.,  7.,  8.,  9.]])\n"
     ]
    }
   ],
   "source": [
    "arr2 = arr[:, [1,2,3]] # return a copy\n",
    "pprint(arr2)\n",
    "arr2[0, 0] = 44\n",
    "pprint(arr2)\n",
    "pprint(arr) # 값이 바뀌지 않음"
   ]
  },
  {
   "cell_type": "code",
   "execution_count": 156,
   "metadata": {},
   "outputs": [
    {
     "name": "stdout",
     "output_type": "stream",
     "text": [
      "array([33.,  6.,  7.,  8.,  9.])\n",
      "array([44.,  6.,  7.,  8.,  9.])\n",
      "array([[ 0., 33.,  2.,  3.,  4.],\n",
      "       [ 5.,  6.,  7.,  8.,  9.]])\n"
     ]
    }
   ],
   "source": [
    "arr2 = arr[arr > 5] # return a copy, 1행부터 차례대로 5보다 큰값만 뽑아서 array로 나열 후 copy\n",
    "pprint(arr2)\n",
    "arr2[0] = 44\n",
    "pprint(arr2)\n",
    "pprint(arr)"
   ]
  },
  {
   "cell_type": "code",
   "execution_count": 157,
   "metadata": {},
   "outputs": [
    {
     "name": "stdout",
     "output_type": "stream",
     "text": [
      "array([[0., 0., 2., 3., 4.],\n",
      "       [5., 0., 0., 0., 0.]])\n"
     ]
    }
   ],
   "source": [
    "arr[arr > 5] = 0\n",
    "pprint(arr)"
   ]
  },
  {
   "cell_type": "code",
   "execution_count": 87,
   "metadata": {},
   "outputs": [
    {
     "name": "stdout",
     "output_type": "stream",
     "text": [
      "array([ True, False, False,  True])\n",
      "array(['Joe', 'Will'], dtype='<U4')\n",
      "array([ True, False,  True,  True])\n",
      "array([ True, False, False,  True])\n",
      "array(['Bob', 'Joe'], dtype='<U4')\n",
      "array(['Bob', 'Joe', 'Joe', 'Bob'], dtype='<U4')\n"
     ]
    }
   ],
   "source": [
    "names = np.array(['Bob', 'Joe', 'Will', 'Bob'])\n",
    "pprint(names == 'Bob') # returns a boolean array\n",
    "pprint(names[names != 'Bob']) # logical selection\n",
    "pprint((names == 'Bob') | (names == 'Will')) # keywords \"and/or\" don't work with boolean arrays\n",
    "pprint((names == 'Bob') & (names != 'Will'))\n",
    "names[names != 'Bob'] = 'Joe' # assign based on a logical selection\n",
    "pprint(np.unique(names))# set function(집합으로 unique value만 array로)\n",
    "pprint(names)"
   ]
  },
  {
   "cell_type": "markdown",
   "metadata": {},
   "source": [
    "[<a href=\"#Table-of-contents\">Back to top</a>]"
   ]
  },
  {
   "cell_type": "markdown",
   "metadata": {},
   "source": [
    "## 6. Vectorized operations"
   ]
  },
  {
   "cell_type": "code",
   "execution_count": 159,
   "metadata": {},
   "outputs": [
    {
     "name": "stdout",
     "output_type": "stream",
     "text": [
      "array([0, 1, 2, 3, 4])\n",
      "array([ 0, 10, 20, 30, 40])\n",
      "array([0.        , 1.        , 1.41421356, 1.73205081, 2.        ])\n",
      "array([0., 1., 2., 2., 2.])\n",
      "array([False, False, False, False, False])\n",
      "array([0.        , 2.        , 3.41421356, 4.73205081, 6.        ])\n",
      "array([1.        , 1.        , 3.        , 1.73205081, 5.        ])\n"
     ]
    }
   ],
   "source": [
    "nums = np.arange(5)\n",
    "pprint(nums)\n",
    "pprint(nums * 10) # multiply each element by 10\n",
    "nums = np.sqrt(nums) # square root of each element\n",
    "pprint(nums)\n",
    "pprint(np.ceil(nums)) # also floor(버림), rint(반올림) (round to nearest int), 올림\n",
    "pprint(np.isnan(nums)) # checks for NaN\n",
    "pprint(nums + np.arange(5)) # add element-wise\n",
    "pprint(np.maximum(nums, np.array([1, -2, 3, -4, 5]))) # compare element-wise, 원소끼리 비교해서 maximum값 반환"
   ]
  },
  {
   "cell_type": "code",
   "execution_count": 160,
   "metadata": {},
   "outputs": [
    {
     "name": "stdout",
     "output_type": "stream",
     "text": [
      "array([-2.79962074e-01,  1.31281104e+00, -9.27155784e-01, -4.01302169e-01,\n",
      "       -2.31085929e+00, -2.08460156e+00,  4.59241643e-01,  1.62191344e+00,\n",
      "        1.94515120e-01, -2.08631547e-03])\n",
      "array([ 0.67087863, -0.22222597, -1.05032969, -1.53994168, -0.18768735,\n",
      "        1.3381685 ,  0.33054907,  0.65390323,  0.0722828 , -0.17813191])\n",
      "4.668496623021033\n"
     ]
    }
   ],
   "source": [
    "# Compute Euclidean distance between 2 vectors\n",
    "vec1 = np.random.randn(10) # standard normal distribution에서 10개의 샘플을 가져옴\n",
    "vec2 = np.random.randn(10)\n",
    "pprint(vec1)\n",
    "pprint(vec2)\n",
    "dist = np.sqrt(np.sum((vec1 - vec2) ** 2))\n",
    "pprint(dist)"
   ]
  },
  {
   "cell_type": "code",
   "execution_count": 106,
   "metadata": {},
   "outputs": [
    {
     "name": "stdout",
     "output_type": "stream",
     "text": [
      "array([[-0.98284437, -0.04131148],\n",
      "       [ 0.80107667,  1.34960946],\n",
      "       [-0.34403479,  0.28966606],\n",
      "       [ 2.08390068,  0.76218799]])\n",
      "0.48978127789368686\n",
      "0.9108795587913807\n",
      "0\n",
      "3.918250223149495\n",
      "array([1.5580982 , 2.36015203])\n",
      "array([-1.02415585,  2.15068613, -0.05436873,  2.84608867])\n"
     ]
    }
   ],
   "source": [
    "# math and stats\n",
    "rnd = np.random.randn(4, 2) # random normals in 4x2 array\n",
    "pprint(rnd)\n",
    "pprint(rnd.mean())\n",
    "pprint(rnd.std())\n",
    "pprint(rnd.argmin()) # index of minimum element, 행렬형태에서는 위에부터, 왼쪽에서 오르쪽으로 0, 1, 2.....\n",
    "pprint(rnd.sum())\n",
    "pprint(rnd.sum(axis=0)) # sum of columns\n",
    "pprint(rnd.sum(axis=1)) # sum of rows"
   ]
  },
  {
   "cell_type": "code",
   "execution_count": 90,
   "metadata": {},
   "outputs": [
    {
     "name": "stdout",
     "output_type": "stream",
     "text": [
      "array([-0.28504399, -0.75980108,  1.34836928, -0.97766119,  0.99750446,\n",
      "       -0.00429155, -1.28836087, -0.76445081])\n",
      "-0.21671696913615818\n",
      "0.8871324060053231\n",
      "6\n",
      "-1.7337357530892654\n"
     ]
    }
   ],
   "source": [
    "rnd = rnd.flatten()\n",
    "pprint(rnd)\n",
    "pprint(rnd.mean())\n",
    "pprint(rnd.std())\n",
    "pprint(rnd.argmin()) # index of minimum element\n",
    "pprint(rnd.sum())"
   ]
  },
  {
   "cell_type": "code",
   "execution_count": 92,
   "metadata": {},
   "outputs": [
    {
     "name": "stdout",
     "output_type": "stream",
     "text": [
      "3\n",
      "True\n",
      "False\n"
     ]
    }
   ],
   "source": [
    "# methods for boolean arrays\n",
    "pprint((rnd > 0).sum()) # counts number of positive values\n",
    "pprint((rnd > 0).any()) # checks if any value is True\n",
    "pprint((rnd > 0).all()) # checks if all values are True"
   ]
  },
  {
   "cell_type": "code",
   "execution_count": 107,
   "metadata": {},
   "outputs": [
    {
     "name": "stdout",
     "output_type": "stream",
     "text": [
      "array([[0.00630595, 0.20303476, 0.76478993],\n",
      "       [0.55513384, 0.74358546, 0.93777808]])\n",
      "array([-2.79962074e-01,  1.31281104e+00, -9.27155784e-01, -4.01302169e-01,\n",
      "       -2.31085929e+00, -2.08460156e+00,  4.59241643e-01,  1.62191344e+00,\n",
      "        1.94515120e-01, -2.08631547e-03])\n",
      "array([0, 0, 0, 1, 1, 0, 1, 1, 1, 1])\n"
     ]
    }
   ],
   "source": [
    "# random numbers\n",
    "np.random.seed(12234) # Set the seed\n",
    "pprint(np.random.rand(2, 3)) # 2 x 3 matrix in [0, 1]\n",
    "pprint(np.random.randn(10)) # random normals (mean 0, sd 1)\n",
    "pprint(np.random.randint(0, 2, 10)) # 10 randomly picked 0 or 1"
   ]
  },
  {
   "cell_type": "code",
   "execution_count": 109,
   "metadata": {},
   "outputs": [
    {
     "data": {
      "text/plain": [
       "array([[0.00630595, 0.20303476, 0.76478993],\n",
       "       [0.55513384, 0.74358546, 0.93777808]])"
      ]
     },
     "execution_count": 109,
     "metadata": {},
     "output_type": "execute_result"
    }
   ],
   "source": [
    "# np.random.seed(12234)\n",
    "np.random.rand(2,3)"
   ]
  },
  {
   "cell_type": "markdown",
   "metadata": {},
   "source": [
    "[<a href=\"#Table-of-contents\">Back to top</a>]"
   ]
  },
  {
   "cell_type": "markdown",
   "metadata": {},
   "source": [
    "## 7. Brodcasting"
   ]
  },
  {
   "cell_type": "code",
   "execution_count": 166,
   "metadata": {},
   "outputs": [
    {
     "name": "stdout",
     "output_type": "stream",
     "text": [
      "array([[ 0,  1,  2],\n",
      "       [10, 11, 12],\n",
      "       [20, 21, 22],\n",
      "       [30, 31, 32]])\n"
     ]
    }
   ],
   "source": [
    "a = np.array([[ 0, 0, 0],\n",
    "              [10, 10, 10],\n",
    "              [20, 20, 20],\n",
    "              [30, 30, 30]]) # 4 x 3\n",
    "b = np.array([0, 1, 2]) # 1 x 3\n",
    "pprint(a + b) # 4 x 3"
   ]
  },
  {
   "cell_type": "code",
   "execution_count": 167,
   "metadata": {},
   "outputs": [
    {
     "name": "stdout",
     "output_type": "stream",
     "text": [
      "array([[[ 0,  1,  2],\n",
      "        [10, 11, 12],\n",
      "        [23, 24, 25],\n",
      "        [33, 34, 35]],\n",
      "\n",
      "       [[ 0,  1,  2],\n",
      "        [10, 11, 12],\n",
      "        [23, 24, 25],\n",
      "        [33, 34, 35]]])\n"
     ]
    }
   ],
   "source": [
    "a = np.array([[[ 0, 0, 0],\n",
    "              [10, 10, 10],\n",
    "              [20, 20, 20],\n",
    "              [30, 30, 30]],\n",
    "             [[ 0, 0, 0],\n",
    "              [10, 10, 10],\n",
    "              [20, 20, 20],\n",
    "              [30, 30, 30]]]) # 2 x 4 x 3\n",
    "b = np.array([[0, 1, 2], [0, 1, 2], [3, 4, 5], [3, 4, 5]]) # 1 x 4 x 3\n",
    "pprint(a + b) # 2 x 4 x 3"
   ]
  },
  {
   "cell_type": "markdown",
   "metadata": {},
   "source": [
    "[<a href=\"#Table-of-contents\">Back to top</a>]"
   ]
  },
  {
   "cell_type": "markdown",
   "metadata": {},
   "source": [
    "## 8. Exercises"
   ]
  },
  {
   "cell_type": "code",
   "execution_count": 116,
   "metadata": {},
   "outputs": [],
   "source": [
    "X = np.random.randn(4, 2) # random normals in 4x2 array"
   ]
  },
  {
   "cell_type": "markdown",
   "metadata": {},
   "source": [
    "- For each column find the row index of the minimum value"
   ]
  },
  {
   "cell_type": "code",
   "execution_count": 117,
   "metadata": {},
   "outputs": [
    {
     "data": {
      "text/plain": [
       "array([[ 0.33054907,  0.65390323],\n",
       "       [ 0.0722828 , -0.17813191],\n",
       "       [-0.22806409, -0.40984287],\n",
       "       [-1.11223407,  1.38240838]])"
      ]
     },
     "execution_count": 117,
     "metadata": {},
     "output_type": "execute_result"
    }
   ],
   "source": [
    "X"
   ]
  },
  {
   "cell_type": "code",
   "execution_count": 118,
   "metadata": {},
   "outputs": [
    {
     "data": {
      "text/plain": [
       "array([3, 2], dtype=int64)"
      ]
     },
     "execution_count": 118,
     "metadata": {},
     "output_type": "execute_result"
    }
   ],
   "source": [
    "X.argmin(axis=0)"
   ]
  },
  {
   "cell_type": "markdown",
   "metadata": {},
   "source": [
    "- Write a function standardize(X) that return an array whose columns are centered and scaled (by std-dev)."
   ]
  },
  {
   "cell_type": "code",
   "execution_count": 119,
   "metadata": {},
   "outputs": [],
   "source": [
    "def standardize(X):\n",
    "    standardize_x = (X - X.mean(axis=0)) / X.std(axis=0)\n",
    "    return standardize_x"
   ]
  },
  {
   "cell_type": "code",
   "execution_count": 120,
   "metadata": {},
   "outputs": [
    {
     "data": {
      "text/plain": [
       "array([[ 1.03839937,  0.41126522],\n",
       "       [ 0.56366737, -0.76133523],\n",
       "       [ 0.01158491, -1.0878892 ],\n",
       "       [-1.61365165,  1.43795921]])"
      ]
     },
     "execution_count": 120,
     "metadata": {},
     "output_type": "execute_result"
    }
   ],
   "source": [
    "standardize(X)"
   ]
  },
  {
   "cell_type": "code",
   "execution_count": 121,
   "metadata": {},
   "outputs": [
    {
     "data": {
      "text/plain": [
       "array([0., 0.])"
      ]
     },
     "execution_count": 121,
     "metadata": {},
     "output_type": "execute_result"
    }
   ],
   "source": [
    "standardize(X).mean(axis=0)"
   ]
  },
  {
   "cell_type": "code",
   "execution_count": 122,
   "metadata": {},
   "outputs": [
    {
     "data": {
      "text/plain": [
       "array([1., 1.])"
      ]
     },
     "execution_count": 122,
     "metadata": {},
     "output_type": "execute_result"
    }
   ],
   "source": [
    "standardize(X).std(axis=0)"
   ]
  },
  {
   "cell_type": "markdown",
   "metadata": {},
   "source": [
    "[<a href=\"#Table-of-contents\">Back to top</a>]"
   ]
  }
 ],
 "metadata": {
  "kernelspec": {
   "display_name": "Python 3",
   "language": "python",
   "name": "python3"
  },
  "language_info": {
   "codemirror_mode": {
    "name": "ipython",
    "version": 3
   },
   "file_extension": ".py",
   "mimetype": "text/x-python",
   "name": "python",
   "nbconvert_exporter": "python",
   "pygments_lexer": "ipython3",
   "version": "3.7.4"
  }
 },
 "nbformat": 4,
 "nbformat_minor": 2
}
